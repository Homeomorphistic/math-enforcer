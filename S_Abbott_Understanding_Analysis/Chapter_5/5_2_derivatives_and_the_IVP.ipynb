{
 "cells": [
  {
   "cell_type": "markdown",
   "metadata": {},
   "source": [
    "Side exercise: present continuity and uniform contunuity."
   ]
  },
  {
   "cell_type": "code",
   "execution_count": 4,
   "metadata": {},
   "outputs": [],
   "source": [
    "#! pip install ipywidgets\n",
    "#! jupyter nbextension enable --py widgetsnbextension --sys-prefix\n",
    "from ipywidgets import interact\n",
    "from ipywidgets.widgets import FloatSlider, fixed"
   ]
  },
  {
   "cell_type": "code",
   "execution_count": 5,
   "metadata": {},
   "outputs": [],
   "source": [
    "from typing import Callable\n",
    "def delta_vicinity(f: Callable[[float], float], eps: float, x: float, step: float = 0.01) -> float:\n",
    "    \"\"\"Find a delta for which values close to f(x) are.\"\"\"\n",
    "    delta = step\n",
    "    while f(x) - eps < f(x-delta) and f(x+delta) < f(x) + eps: # are values in vicinity of x close?\n",
    "        delta += step # then broaden the interval\n",
    "\n",
    "    return delta\n",
    "\n",
    "import matplotlib.pyplot as plt\n",
    "import numpy as np\n",
    "def plot_vicinity(f: Callable[[float], float], eps: float, x_0: float, step: float = 0.01):\n",
    "    \"\"\"Plot a function and point out the vicinity for which values are close.\"\"\"\n",
    "    d = delta_vicinity(f, eps, x_0, step)\n",
    "    x = np.linspace(0-d,1+d)\n",
    "    plt.plot(x, f(x))\n",
    "    plt.axhline(y=f(x_0)-eps, linestyle='--', color='blue')\n",
    "    plt.axhline(y=f(x_0)+eps, linestyle='--', color='blue')\n",
    "    plt.axvline(x=x_0-d, linestyle=':', color='red')\n",
    "    plt.axvline(x=x_0+d, linestyle=':', color='red')\n",
    "    plt.show()"
   ]
  },
  {
   "cell_type": "code",
   "execution_count": 11,
   "metadata": {},
   "outputs": [
    {
     "data": {
      "application/vnd.jupyter.widget-view+json": {
       "model_id": "9ca86d7aaf904fde93f3cedaff21ee46",
       "version_major": 2,
       "version_minor": 0
      },
      "text/plain": [
       "interactive(children=(FloatSlider(value=0.05, description='Epsilon:', max=0.25, step=0.01), FloatSlider(value=…"
      ]
     },
     "metadata": {},
     "output_type": "display_data"
    }
   ],
   "source": [
    "eps_widget = FloatSlider(value=0.05, step=0.01, min=0, max=0.25, description='Epsilon:')\n",
    "x0_widget = FloatSlider(value=0.5, step=0.01, min=0, max=1, description='x_0:')\n",
    "\n",
    "interact(plot_vicinity, f=fixed(lambda x: x**2), eps=eps_widget, x_0=x0_widget, step=fixed(0.01));"
   ]
  },
  {
   "cell_type": "markdown",
   "metadata": {},
   "source": [
    "# 5.2 Derivatives and the Intermediate Value Property"
   ]
  },
  {
   "cell_type": "markdown",
   "source": [
    "## 5.2.8\n",
    "(a) for $x^2$:\n",
    "\\begin{equation*}\n",
    "    \\left| \\frac{x^2-y^2}{x-y} - 2y \\right| = \\left| \\frac{(x-y)(x+y)}{x-y} - 2y \\right| = \\left| x+y - 2y \\right| = \\left| x-y \\right|.\n",
    "\\end{equation*}"
   ],
   "metadata": {
    "collapsed": false
   }
  }
 ],
 "metadata": {
  "kernelspec": {
   "display_name": "Python 3 (ipykernel)",
   "language": "python",
   "name": "python3"
  },
  "language_info": {
   "codemirror_mode": {
    "name": "ipython",
    "version": 3
   },
   "file_extension": ".py",
   "mimetype": "text/x-python",
   "name": "python",
   "nbconvert_exporter": "python",
   "pygments_lexer": "ipython3",
   "version": "3.11.2"
  }
 },
 "nbformat": 4,
 "nbformat_minor": 1
}
